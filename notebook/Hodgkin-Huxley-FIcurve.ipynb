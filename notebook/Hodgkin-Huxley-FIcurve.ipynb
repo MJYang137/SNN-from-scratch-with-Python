{
 "cells": [
  {
   "cell_type": "markdown",
   "metadata": {},
   "source": [
    "# Hodgkin-HuxleyモデルのFI curveをplotする\n",
    "ライブラリをimportします"
   ]
  },
  {
   "cell_type": "code",
   "execution_count": 28,
   "metadata": {},
   "outputs": [],
   "source": [
    "import numpy as np\n",
    "from tqdm.notebook import tqdm\n",
    "import matplotlib.pyplot as plt\n",
    "import seaborn as sns\n",
    "sns.set_style('whitegrid')"
   ]
  },
  {
   "cell_type": "markdown",
   "metadata": {},
   "source": [
    "次にモデルを定義します。"
   ]
  },
  {
   "cell_type": "code",
   "execution_count": 4,
   "metadata": {},
   "outputs": [],
   "source": [
    "class HodgkinHuxleyModel:\n",
    "    def __init__(self, dt=1e-3, solver=\"RK4\"):\n",
    "        self.C_m  =   1.0 # 膜容量 (uF/cm^2)\n",
    "        self.g_Na = 120.0 # Na+の最大コンダクタンス (mS/cm^2)\n",
    "        self.g_K  =  36.0 # K+の最大コンダクタンス (mS/cm^2)\n",
    "        self.g_L  =   0.3 # 漏れイオンの最大コンダクタンス (mS/cm^2)\n",
    "        self.E_Na =  50.0 # Na+の平衡電位 (mV)\n",
    "        self.E_K  = -77.0 # K+の平衡電位 (mV)\n",
    "        self.E_L  = -54.387 #漏れイオンの平衡電位 (mV)\n",
    "        \n",
    "        self.solver = solver\n",
    "        self.dt = dt\n",
    "        \n",
    "        # V, m, h, n\n",
    "        self.states = np.array([-65, 0.05, 0.6, 0.32])\n",
    "        self.I_inj = None\n",
    "    \n",
    "    def Solvers(self, func, x, dt):\n",
    "        # 4th order Runge-Kutta法\n",
    "        if self.solver == \"RK4\":\n",
    "            k1 = dt*func(x)\n",
    "            k2 = dt*func(x + 0.5*k1)\n",
    "            k3 = dt*func(x + 0.5*k2)\n",
    "            k4 = dt*func(x + k3)\n",
    "            return x + (k1 + 2*k2 + 2*k3 + k4) / 6\n",
    "        \n",
    "        # 陽的Euler法\n",
    "        elif self.solver == \"Euler\": \n",
    "            return x + dt*func(x)\n",
    "        else:\n",
    "            return None\n",
    "        \n",
    "    # イオンチャネルのゲートについての6つの関数\n",
    "    def alpha_m(self, V):\n",
    "        return 0.1*(V+40.0)/(1.0 - np.exp(-(V+40.0) / 10.0))\n",
    "\n",
    "    def beta_m(self, V):\n",
    "        return 4.0*np.exp(-(V+65.0) / 18.0)\n",
    "\n",
    "    def alpha_h(self, V):\n",
    "        return 0.07*np.exp(-(V+65.0) / 20.0)\n",
    "\n",
    "    def beta_h(self, V):\n",
    "        return 1.0/(1.0 + np.exp(-(V+35.0) / 10.0))\n",
    "\n",
    "    def alpha_n(self, V):\n",
    "        return 0.01*(V+55.0)/(1.0 - np.exp(-(V+55.0) / 10.0))\n",
    "\n",
    "    def beta_n(self, V):\n",
    "        return 0.125*np.exp(-(V+65) / 80.0)\n",
    "\n",
    "    # Na+電流 (uA/cm^2)\n",
    "    def I_Na(self, V, m, h):\n",
    "        return self.g_Na * m**3 * h * (V - self.E_Na)\n",
    "    \n",
    "    # K+電流 (uA/cm^2)\n",
    "    def I_K(self, V, n):\n",
    "        return self.g_K  * n**4 * (V - self.E_K)\n",
    "\n",
    "    # 漏れ電流 (uA/cm^2)\n",
    "    def I_L(self, V):\n",
    "        return self.g_L * (V - self.E_L)\n",
    "        \n",
    "    # 微分方程式\n",
    "    def dALLdt(self, states):\n",
    "        V, m, h, n = states\n",
    "        \n",
    "        dVdt = (self.I_inj - self.I_Na(V, m, h) \\\n",
    "                - self.I_K(V, n) - self.I_L(V)) / self.C_m\n",
    "        dmdt = self.alpha_m(V)*(1.0-m) - self.beta_m(V)*m\n",
    "        dhdt = self.alpha_h(V)*(1.0-h) - self.beta_h(V)*h\n",
    "        dndt = self.alpha_n(V)*(1.0-n) - self.beta_n(V)*n\n",
    "        return np.array([dVdt, dmdt, dhdt, dndt])\n",
    "    \n",
    "    def __call__(self, I):\n",
    "        self.I_inj = I\n",
    "        states = self.Solvers(self.dALLdt, self.states, self.dt)\n",
    "        self.states = states\n",
    "        return states"
   ]
  },
  {
   "cell_type": "markdown",
   "metadata": {},
   "source": [
    "シミュレーションのための定数と入力電流の大きさを定義します。入力電流は0～30uA/cm$^2$の間から50回サンプリングします。"
   ]
  },
  {
   "cell_type": "code",
   "execution_count": 8,
   "metadata": {},
   "outputs": [],
   "source": [
    "dt = 0.01; T = 500 # (ms)\n",
    "nt = round(T/dt) # ステップ数\n",
    "\n",
    "N = 50\n",
    "I_inj = np.sort(30*np.random.rand(N)) # 刺激電流 (uA/cm^2)\n",
    "firing_rate = np.zeros(N) # 発火率の記録用配列"
   ]
  },
  {
   "cell_type": "markdown",
   "metadata": {},
   "source": [
    "入力電流を確認しておきます。"
   ]
  },
  {
   "cell_type": "code",
   "execution_count": 9,
   "metadata": {},
   "outputs": [
    {
     "data": {
      "text/plain": [
       "array([ 0.25898393,  0.58540839,  0.63372405,  0.922206  ,  0.92693746,\n",
       "        4.11140144,  4.37448833,  5.85445395,  6.29928263,  6.33229761,\n",
       "        6.37900989,  7.65039074,  8.6641491 ,  8.98230984, 10.46369835,\n",
       "       10.92631924, 10.99678457, 11.3542475 , 11.71461959, 11.78827167,\n",
       "       12.23116329, 12.57366304, 14.37297872, 15.08918803, 15.34638366,\n",
       "       15.52960925, 15.63810896, 16.2993015 , 16.5329323 , 17.38720276,\n",
       "       18.25247975, 18.9745069 , 19.76695294, 20.10668766, 20.56184969,\n",
       "       21.16658323, 21.54429203, 21.74503282, 21.97272258, 22.21142224,\n",
       "       22.34060333, 22.82560621, 22.88899313, 24.24171949, 25.13223366,\n",
       "       27.01472273, 27.26022086, 27.95931478, 28.16317976, 29.78231273])"
      ]
     },
     "execution_count": 9,
     "metadata": {},
     "output_type": "execute_result"
    }
   ],
   "source": [
    "I_inj"
   ]
  },
  {
   "cell_type": "markdown",
   "metadata": {},
   "source": [
    "シミュレーションを実行します。"
   ]
  },
  {
   "cell_type": "code",
   "execution_count": 12,
   "metadata": {},
   "outputs": [
    {
     "name": "stderr",
     "output_type": "stream",
     "text": [
      "C:\\Users\\user\\miniconda3\\lib\\site-packages\\ipykernel_launcher.py:1: TqdmDeprecationWarning: This function will be removed in tqdm==5.0.0\n",
      "Please use `tqdm.notebook.tqdm` instead of `tqdm.tqdm_notebook`\n",
      "  \"\"\"Entry point for launching an IPython kernel.\n"
     ]
    },
    {
     "data": {
      "application/vnd.jupyter.widget-view+json": {
       "model_id": "8d5029384f904f748cbc3b51f746c0bb",
       "version_major": 2,
       "version_minor": 0
      },
      "text/plain": [
       "HBox(children=(FloatProgress(value=0.0, max=50.0), HTML(value='')))"
      ]
     },
     "metadata": {},
     "output_type": "display_data"
    },
    {
     "name": "stdout",
     "output_type": "stream",
     "text": [
      "\n"
     ]
    }
   ],
   "source": [
    "for j in tqdm_notebook(range(N)):\n",
    "    HH_neuron = HodgkinHuxleyModel(dt=dt, solver=\"Euler\")\n",
    "    V_arr = np.zeros((nt, 4)) # 記録用配列\n",
    "    \n",
    "    # シミュレーション\n",
    "    for i in range(nt):\n",
    "        X = HH_neuron(I_inj[j])\n",
    "        V_arr[i] = X[0]\n",
    "           \n",
    "    spike = np.bitwise_and(V_arr[:-1]<0, V_arr[1:]>0)\n",
    "    rate = np.sum(spike) / T*1e3\n",
    "    \n",
    "    firing_rate[j] = rate"
   ]
  },
  {
   "cell_type": "markdown",
   "metadata": {},
   "source": [
    "結果をplotします。"
   ]
  },
  {
   "cell_type": "code",
   "execution_count": 34,
   "metadata": {},
   "outputs": [
    {
     "data": {
      "image/png": "[encoded data removed]",
      "text/plain": [
       "<Figure size 432x360 with 1 Axes>"
      ]
     },
     "metadata": {},
     "output_type": "display_data"
    }
   ],
   "source": [
    "plt.figure(figsize=(6, 5))\n",
    "plt.plot(I_inj, firing_rate)\n",
    "plt.scatter(I_inj, firing_rate, alpha=0.7)\n",
    "plt.xlabel('Input current ($\\mu$A/cm$^2$)', size=20)\n",
    "plt.ylabel('Firing rate (Hz)', size=20) \n",
    "plt.xlim(0, 30)\n",
    "plt.tight_layout()\n",
    "plt.savefig(\"HH_FIcurve.png\", dpi=300)\n",
    "plt.show()"
   ]
  }
 ],
 "metadata": {
  "kernelspec": {
   "display_name": "Python 3",
   "language": "python",
   "name": "python3"
  },
  "language_info": {
   "codemirror_mode": {
    "name": "ipython",
    "version": 3
   },
   "file_extension": ".py",
   "mimetype": "text/x-python",
   "name": "python",
   "nbconvert_exporter": "python",
   "pygments_lexer": "ipython3",
   "version": "3.7.6"
  }
 },
 "nbformat": 4,
 "nbformat_minor": 4
}
