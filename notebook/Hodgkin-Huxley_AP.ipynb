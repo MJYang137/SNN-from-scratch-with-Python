{
 "cells": [
  {
   "cell_type": "code",
   "execution_count": 2,
   "metadata": {},
   "outputs": [],
   "source": [
    "import numpy as np\n",
    "import matplotlib.pyplot as plt\n",
    "from tqdm import tqdm"
   ]
  },
  {
   "cell_type": "code",
   "execution_count": 3,
   "metadata": {},
   "outputs": [],
   "source": [
    "class HodgkinHuxleyModel:\n",
    "    def __init__(self, dt=1e-3, solver=\"RK4\"):\n",
    "        self.C_m  =   1.0 # 膜容量 (uF/cm^2)\n",
    "        self.g_Na = 120.0 # Na+の最大コンダクタンス (mS/cm^2)\n",
    "        self.g_K  =  36.0 # K+の最大コンダクタンス (mS/cm^2)\n",
    "        self.g_L  =   0.3 # 漏れイオンの最大コンダクタンス (mS/cm^2)\n",
    "        self.E_Na =  50.0 # Na+の平衡電位 (mV)\n",
    "        self.E_K  = -77.0 # K+の平衡電位 (mV)\n",
    "        self.E_L  = -54.387 #漏れイオンの平衡電位 (mV)\n",
    "        \n",
    "        self.solver = solver\n",
    "        self.dt = dt\n",
    "        \n",
    "        # V, m, h, n\n",
    "        self.states = np.array([-65, 0.05, 0.6, 0.32])\n",
    "        self.I_m = None\n",
    "    \n",
    "    def Solvers(self, func, x, dt):\n",
    "        # 4th order Runge-Kutta法\n",
    "        if self.solver == \"RK4\":\n",
    "            k1 = dt*func(x)\n",
    "            k2 = dt*func(x + 0.5*k1)\n",
    "            k3 = dt*func(x + 0.5*k2)\n",
    "            k4 = dt*func(x + k3)\n",
    "            return x + (k1 + 2*k2 + 2*k3 + k4) / 6\n",
    "        \n",
    "        # 陽的Euler法\n",
    "        elif self.solver == \"Euler\": \n",
    "            return x + dt*func(x)\n",
    "        else:\n",
    "            return None\n",
    "        \n",
    "    # イオンチャネルのゲートについての6つの関数\n",
    "    def alpha_m(self, V):\n",
    "        return 0.1*(V+40.0)/(1.0 - np.exp(-(V+40.0) / 10.0))\n",
    "\n",
    "    def beta_m(self, V):\n",
    "        return 4.0*np.exp(-(V+65.0) / 18.0)\n",
    "\n",
    "    def alpha_h(self, V):\n",
    "        return 0.07*np.exp(-(V+65.0) / 20.0)\n",
    "\n",
    "    def beta_h(self, V):\n",
    "        return 1.0/(1.0 + np.exp(-(V+35.0) / 10.0))\n",
    "\n",
    "    def alpha_n(self, V):\n",
    "        return 0.01*(V+55.0)/(1.0 - np.exp(-(V+55.0) / 10.0))\n",
    "\n",
    "    def beta_n(self, V):\n",
    "        return 0.125*np.exp(-(V+65) / 80.0)\n",
    "\n",
    "    # Na+電流 (uA/cm^2)\n",
    "    def I_Na(self, V, m, h):\n",
    "        return self.g_Na * m**3 * h * (V - self.E_Na)\n",
    "    \n",
    "    # K+電流 (uA/cm^2)\n",
    "    def I_K(self, V, n):\n",
    "        return self.g_K  * n**4 * (V - self.E_K)\n",
    "\n",
    "    # 漏れ電流 (uA/cm^2)\n",
    "    def I_L(self, V):\n",
    "        return self.g_L * (V - self.E_L)\n",
    "        \n",
    "    # 微分方程式\n",
    "    def dALLdt(self, states):\n",
    "        V, m, h, n = states\n",
    "        \n",
    "        dVdt = (self.I_m - self.I_Na(V, m, h) \\\n",
    "                - self.I_K(V, n) - self.I_L(V)) / self.C_m\n",
    "        dmdt = self.alpha_m(V)*(1.0-m) - self.beta_m(V)*m\n",
    "        dhdt = self.alpha_h(V)*(1.0-h) - self.beta_h(V)*h\n",
    "        dndt = self.alpha_n(V)*(1.0-n) - self.beta_n(V)*n\n",
    "        return np.array([dVdt, dmdt, dhdt, dndt])\n",
    "    \n",
    "    def __call__(self, I):\n",
    "        self.I_m = I\n",
    "        states = self.Solvers(self.dALLdt, self.states, self.dt)\n",
    "        self.states = states\n",
    "        return states"
   ]
  },
  {
   "cell_type": "code",
   "execution_count": 64,
   "metadata": {},
   "outputs": [
    {
     "name": "stderr",
     "output_type": "stream",
     "text": [
      "100%|█████████████████████████████████████████████████████████████████████████| 40000/40000 [00:01<00:00, 24051.70it/s]"
     ]
    },
    {
     "name": "stdout",
     "output_type": "stream",
     "text": [
      "Num. of spikes : 0\n"
     ]
    },
    {
     "name": "stderr",
     "output_type": "stream",
     "text": [
      "\n"
     ]
    }
   ],
   "source": [
    "dt = 0.01\n",
    "T = 400 # (ms)\n",
    "td = 20 # synaptic decay time (ms)\n",
    "tr = 2 # synaptic rise time (ms)\n",
    "nt = round(T/dt) # ステップ数\n",
    "time = np.arange(0.0, T, dt)         \n",
    "\n",
    "# 刺激電流 (uA/cm^2)\n",
    "spike = np.zeros(nt)\n",
    "spike_times = [10000]\n",
    "spike[spike_times] = 1\n",
    "\n",
    "HH_neuron = HodgkinHuxleyModel(dt=dt, solver=\"Euler\")\n",
    "r = 0; hr = 0 # 初期値\n",
    "X_arr = np.zeros((nt, 4)) # 記録用配列\n",
    "\n",
    "# シミュレーション\n",
    "r_list = []\n",
    "for i in tqdm(range(nt)):\n",
    "    r = r*(1-dt/tr) + hr*dt \n",
    "    hr = hr*(1-dt/td) + spike[i]/(tr*td)\n",
    "    r_list.append(r)\n",
    "    X = HH_neuron(r*50)\n",
    "    X_arr[i] = X\n",
    "\n",
    "spike = np.bitwise_and(X_arr[:-1, 0] < 0, X_arr[1:, 0] > 0)\n",
    "print(\"Num. of spikes :\", np.sum(spike))"
   ]
  },
  {
   "cell_type": "code",
   "execution_count": 65,
   "metadata": {},
   "outputs": [
    {
     "data": {
      "image/png": "[encoded data removed]",
      "text/plain": [
       "<Figure size 288x288 with 2 Axes>"
      ]
     },
     "metadata": {
      "needs_background": "light"
     },
     "output_type": "display_data"
    }
   ],
   "source": [
    "plt.figure(figsize=(4, 4))\n",
    "plt.subplot(2,1,1)\n",
    "plt.plot(time[5000:], X_arr[5000:,0])\n",
    "plt.ylabel('V (mV)')\n",
    "\n",
    "plt.subplot(2,1,2)\n",
    "plt.plot(time[5000:], np.array(r_list)[5000:])\n",
    "plt.tight_layout()\n",
    "plt.show()"
   ]
  },
  {
   "cell_type": "code",
   "execution_count": 18,
   "metadata": {},
   "outputs": [
    {
     "data": {
      "text/plain": [
       "40000"
      ]
     },
     "execution_count": 18,
     "metadata": {},
     "output_type": "execute_result"
    }
   ],
   "source": [
    "nt"
   ]
  }
 ],
 "metadata": {
  "kernelspec": {
   "display_name": "Python 3",
   "language": "python",
   "name": "python3"
  },
  "language_info": {
   "codemirror_mode": {
    "name": "ipython",
    "version": 3
   },
   "file_extension": ".py",
   "mimetype": "text/x-python",
   "name": "python",
   "nbconvert_exporter": "python",
   "pygments_lexer": "ipython3",
   "version": "3.7.6"
  }
 },
 "nbformat": 4,
 "nbformat_minor": 4
}
